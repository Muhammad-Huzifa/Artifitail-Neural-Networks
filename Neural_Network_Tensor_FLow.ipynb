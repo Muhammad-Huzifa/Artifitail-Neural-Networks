{
 "cells": [
  {
   "cell_type": "code",
   "execution_count": 291,
   "id": "b7e29bcf-aa72-400c-a7b6-2539b6a45631",
   "metadata": {},
   "outputs": [],
   "source": [
    "import numpy as np\n",
    "import matplotlib.pyplot as plt\n",
    "import tensorflow as tf\n",
    "from tensorflow.keras.models import Sequential\n",
    "from tensorflow.keras.layers import Dense"
   ]
  },
  {
   "cell_type": "code",
   "execution_count": 387,
   "id": "088e8af0-624d-485e-9655-ab6893d7b147",
   "metadata": {},
   "outputs": [],
   "source": [
    "X = np.array([[185.32,  12.69],\n",
    "       [259.92,  11.87],\n",
    "       [231.01,  14.41],\n",
    "       [175.37,  11.72],\n",
    "       [187.12,  14.13],\n",
    "       [225.91,  12.1 ],\n",
    "       [208.41,  14.18],\n",
    "       [207.08,  14.03],\n",
    "       [280.6 ,  14.23],\n",
    "       [202.87,  12.25],\n",
    "       [196.7 ,  13.54],\n",
    "       [270.31,  14.6 ],\n",
    "       [192.95,  15.2 ],\n",
    "       [213.57,  14.28],\n",
    "       [164.47,  11.92],\n",
    "       [177.26,  15.04],\n",
    "       [241.77,  14.9 ],\n",
    "       [237.  ,  13.13],\n",
    "       [219.74,  13.87],\n",
    "       [266.39,  13.25],\n",
    "       [270.45,  13.95],\n",
    "       [261.96,  13.49],\n",
    "       [243.49,  12.86],\n",
    "       [220.58,  12.36],\n",
    "       [163.59,  11.65],\n",
    "       [244.76,  13.33],\n",
    "       [271.19,  14.84],\n",
    "       [201.99,  15.39],\n",
    "       [229.93,  14.56],\n",
    "       [204.97,  12.28],\n",
    "       [173.19,  12.22],\n",
    "       [231.51,  11.95],\n",
    "       [152.69,  14.83],\n",
    "       [163.42,  13.3 ],\n",
    "       [215.95,  13.98],\n",
    "       [218.04,  15.25],\n",
    "       [251.3 ,  13.8 ],\n",
    "       [233.33,  13.53],\n",
    "       [280.24,  12.41],\n",
    "       [243.02,  13.72],\n",
    "       [155.67,  12.68],\n",
    "       [275.17,  14.64],\n",
    "       [151.73,  12.69],\n",
    "       [151.32,  14.81],\n",
    "       [164.9 ,  11.73],\n",
    "       [282.55,  13.28],\n",
    "       [192.98,  11.7 ],\n",
    "       [202.6 ,  12.96],\n",
    "       [220.67,  11.53],\n",
    "       [169.97,  12.34],\n",
    "       [209.47,  12.71],\n",
    "       [232.8 ,  12.64],\n",
    "       [272.8 ,  15.35],\n",
    "       [158.02,  12.34],\n",
    "       [226.01,  14.58],\n",
    "       [158.64,  12.24],\n",
    "       [211.66,  14.17],\n",
    "       [271.95,  14.97],\n",
    "       [257.16,  11.71],\n",
    "       [281.85,  13.96],\n",
    "       [161.63,  12.52],\n",
    "       [233.8 ,  13.04],\n",
    "       [210.29,  14.72],\n",
    "       [261.24,  13.69],\n",
    "       [256.98,  13.12],\n",
    "       [281.56,  13.92],\n",
    "       [280.64,  11.68],\n",
    "       [269.16,  13.74],\n",
    "       [246.34,  12.27],\n",
    "       [224.07,  12.66],\n",
    "       [164.24,  11.51],\n",
    "       [272.42,  14.18],\n",
    "       [177.68,  12.53],\n",
    "       [212.86,  14.77],\n",
    "       [165.88,  15.37],\n",
    "       [277.43,  12.48],\n",
    "       [236.51,  12.94],\n",
    "       [244.14,  11.85],\n",
    "       [213.45,  13.85],\n",
    "       [234.57,  14.27],\n",
    "       [270.34,  12.47],\n",
    "       [170.68,  13.06],\n",
    "       [226.79,  15.34],\n",
    "       [245.92,  14.45],\n",
    "       [281.32,  12.57],\n",
    "       [185.03,  13.19],\n",
    "       [189.88,  14.1 ],\n",
    "       [278.48,  12.11],\n",
    "       [219.92,  14.21],\n",
    "       [216.58,  15.15],\n",
    "       [249.48,  15.03],\n",
    "       [165.09,  12.28],\n",
    "       [158.87,  14.82],\n",
    "       [279.98,  11.56],\n",
    "       [256.55,  14.41],\n",
    "       [272.61,  12.58],\n",
    "       [246.49,  12.45],\n",
    "       [160.26,  14.48],\n",
    "       [155.7 ,  14.3 ],\n",
    "       [188.27,  13.45],\n",
    "       [270.36,  12.47],\n",
    "       [213.22,  12.92],\n",
    "       [175.7 ,  13.39],\n",
    "       [174.52,  14.7 ],\n",
    "       [233.  ,  12.63],\n",
    "       [281.37,  12.88],\n",
    "       [240.62,  14.43],\n",
    "       [185.81,  11.55],\n",
    "       [270.5 ,  15.33],\n",
    "       [172.98,  12.11],\n",
    "       [208.41,  13.89],\n",
    "       [283.51,  15.35],\n",
    "       [283.36,  12.48],\n",
    "       [230.85,  13.24],\n",
    "       [181.24,  11.76],\n",
    "       [172.78,  12.93],\n",
    "       [161.88,  12.1 ],\n",
    "       [156.03,  13.99],\n",
    "       [216.52,  12.47],\n",
    "       [221.06,  13.2 ],\n",
    "       [238.99,  15.23],\n",
    "       [197.69,  14.08],\n",
    "       [179.55,  15.26],\n",
    "       [233.39,  12.13],\n",
    "       [184.7 ,  12.14],\n",
    "       [174.18,  12.73],\n",
    "       [261.11,  13.33],\n",
    "       [187.42,  13.18],\n",
    "       [186.1 ,  14.43],\n",
    "       [157.94,  12.66],\n",
    "       [193.64,  12.23],\n",
    "       [249.65,  12.22],\n",
    "       [190.56,  11.73],\n",
    "       [252.  ,  12.96],\n",
    "       [238.55,  12.37],\n",
    "       [152.94,  12.79],\n",
    "       [255.17,  14.85],\n",
    "       [197.09,  14.89],\n",
    "       [156.8 ,  13.59],\n",
    "       [184.75,  13.26],\n",
    "       [179.92,  15.07],\n",
    "       [190.79,  15.28],\n",
    "       [164.73,  13.22],\n",
    "       [209.87,  14.34],\n",
    "       [196.58,  13.47],\n",
    "       [159.51,  12.74],\n",
    "       [247.87,  11.92],\n",
    "       [212.44,  12.45],\n",
    "       [172.34,  11.99],\n",
    "       [259.87,  14.25],\n",
    "       [201.23,  13.07],\n",
    "       [248.34,  13.92],\n",
    "       [273.66,  15.18],\n",
    "       [215.09,  14.14],\n",
    "       [223.53,  12.74],\n",
    "       [211.22,  14.38],\n",
    "       [224.61,  14.03],\n",
    "       [215.75,  15.31],\n",
    "       [254.82,  12.02],\n",
    "       [259.9 ,  15.17],\n",
    "       [260.25,  12.87],\n",
    "       [199.67,  12.47],\n",
    "       [157.52,  13.39],\n",
    "       [264.81,  14.58],\n",
    "       [239.4 ,  14.89],\n",
    "       [238.98,  12.39],\n",
    "       [258.43,  12.97],\n",
    "       [270.16,  12.81],\n",
    "       [162.41,  14.42],\n",
    "       [164.53,  14.98],\n",
    "       [205.61,  14.62],\n",
    "       [157.1 ,  13.68],\n",
    "       [241.38,  12.02],\n",
    "       [232.13,  12.07],\n",
    "       [191.04,  12.96],\n",
    "       [233.64,  12.02],\n",
    "       [174.95,  14.63],\n",
    "       [246.64,  13.32],\n",
    "       [188.07,  14.27],\n",
    "       [213.16,  12.75],\n",
    "       [268.08,  12.31],\n",
    "       [258.58,  13.97],\n",
    "       [237.21,  14.23],\n",
    "       [251.02,  15.02],\n",
    "       [274.28,  12.52],\n",
    "       [172.12,  15.09],\n",
    "       [177.52,  12.39],\n",
    "       [258.71,  15.36],\n",
    "       [264.01,  13.57],\n",
    "       [200.71,  15.45],\n",
    "       [249.37,  14.02],\n",
    "       [151.5 ,  12.28],\n",
    "       [151.82,  15.13],\n",
    "       [181.92,  12.18],\n",
    "       [228.65,  12.31],\n",
    "       [223.78,  15.3 ],\n",
    "       [266.63,  12.48],\n",
    "       [273.68,  13.1 ],\n",
    "       [220.61,  12.8 ],\n",
    "       [284.99,  12.73]])\n",
    "\n",
    "y = np.array([[1.],\n",
    "       [0.],\n",
    "       [0.],\n",
    "       [0.],\n",
    "       [1.],\n",
    "       [1.],\n",
    "       [0.],\n",
    "       [0.],\n",
    "       [0.],\n",
    "       [1.],\n",
    "       [1.],\n",
    "       [0.],\n",
    "       [0.],\n",
    "       [0.],\n",
    "       [0.],\n",
    "       [0.],\n",
    "       [0.],\n",
    "       [0.],\n",
    "       [0.],\n",
    "       [0.],\n",
    "       [0.],\n",
    "       [0.],\n",
    "       [0.],\n",
    "       [1.],\n",
    "       [0.],\n",
    "       [0.],\n",
    "       [0.],\n",
    "       [0.],\n",
    "       [0.],\n",
    "       [1.],\n",
    "       [0.],\n",
    "       [0.],\n",
    "       [0.],\n",
    "       [0.],\n",
    "       [0.],\n",
    "       [0.],\n",
    "       [0.],\n",
    "       [0.],\n",
    "       [0.],\n",
    "       [0.],\n",
    "       [0.],\n",
    "       [0.],\n",
    "       [0.],\n",
    "       [0.],\n",
    "       [0.],\n",
    "       [0.],\n",
    "       [0.],\n",
    "       [1.],\n",
    "       [0.],\n",
    "       [0.],\n",
    "       [1.],\n",
    "       [1.],\n",
    "       [0.],\n",
    "       [0.],\n",
    "       [0.],\n",
    "       [0.],\n",
    "       [0.],\n",
    "       [0.],\n",
    "       [0.],\n",
    "       [0.],\n",
    "       [0.],\n",
    "       [0.],\n",
    "       [0.],\n",
    "       [0.],\n",
    "       [0.],\n",
    "       [0.],\n",
    "       [0.],\n",
    "       [0.],\n",
    "       [1.],\n",
    "       [1.],\n",
    "       [0.],\n",
    "       [0.],\n",
    "       [1.],\n",
    "       [0.],\n",
    "       [0.],\n",
    "       [0.],\n",
    "       [0.],\n",
    "       [0.],\n",
    "       [0.],\n",
    "       [0.],\n",
    "       [0.],\n",
    "       [0.],\n",
    "       [0.],\n",
    "       [0.],\n",
    "       [0.],\n",
    "       [1.],\n",
    "       [1.],\n",
    "       [0.],\n",
    "       [0.],\n",
    "       [0.],\n",
    "       [0.],\n",
    "       [0.],\n",
    "       [0.],\n",
    "       [0.],\n",
    "       [0.],\n",
    "       [0.],\n",
    "       [0.],\n",
    "       [0.],\n",
    "       [0.],\n",
    "       [1.],\n",
    "       [0.],\n",
    "       [1.],\n",
    "       [1.],\n",
    "       [0.],\n",
    "       [1.],\n",
    "       [0.],\n",
    "       [0.],\n",
    "       [0.],\n",
    "       [0.],\n",
    "       [0.],\n",
    "       [0.],\n",
    "       [0.],\n",
    "       [0.],\n",
    "       [0.],\n",
    "       [0.],\n",
    "       [0.],\n",
    "       [0.],\n",
    "       [0.],\n",
    "       [1.],\n",
    "       [1.],\n",
    "       [0.],\n",
    "       [0.],\n",
    "       [0.],\n",
    "       [1.],\n",
    "       [1.],\n",
    "       [0.],\n",
    "       [0.],\n",
    "       [1.],\n",
    "       [0.],\n",
    "       [0.],\n",
    "       [1.],\n",
    "       [0.],\n",
    "       [0.],\n",
    "       [0.],\n",
    "       [1.],\n",
    "       [0.],\n",
    "       [0.],\n",
    "       [0.],\n",
    "       [0.],\n",
    "       [1.],\n",
    "       [0.],\n",
    "       [0.],\n",
    "       [0.],\n",
    "       [0.],\n",
    "       [1.],\n",
    "       [0.],\n",
    "       [0.],\n",
    "       [1.],\n",
    "       [0.],\n",
    "       [0.],\n",
    "       [1.],\n",
    "       [0.],\n",
    "       [0.],\n",
    "       [0.],\n",
    "       [1.],\n",
    "       [0.],\n",
    "       [0.],\n",
    "       [0.],\n",
    "       [0.],\n",
    "       [0.],\n",
    "       [0.],\n",
    "       [1.],\n",
    "       [0.],\n",
    "       [0.],\n",
    "       [0.],\n",
    "       [1.],\n",
    "       [0.],\n",
    "       [0.],\n",
    "       [0.],\n",
    "       [0.],\n",
    "       [0.],\n",
    "       [0.],\n",
    "       [1.],\n",
    "       [1.],\n",
    "       [1.],\n",
    "       [1.],\n",
    "       [0.],\n",
    "       [0.],\n",
    "       [1.],\n",
    "       [1.],\n",
    "       [0.],\n",
    "       [0.],\n",
    "       [0.],\n",
    "       [0.],\n",
    "       [0.],\n",
    "       [0.],\n",
    "       [1.],\n",
    "       [0.],\n",
    "       [0.],\n",
    "       [0.],\n",
    "       [0.],\n",
    "       [0.],\n",
    "       [0.],\n",
    "       [1.],\n",
    "       [1.],\n",
    "       [0.],\n",
    "       [0.],\n",
    "       [0.],\n",
    "       [1.],\n",
    "       [0.]])"
   ]
  },
  {
   "cell_type": "code",
   "execution_count": 389,
   "id": "7ce5ed08-b2d0-415e-a246-89811824839b",
   "metadata": {},
   "outputs": [
    {
     "data": {
      "text/plain": [
       "((200, 2), (200, 1))"
      ]
     },
     "execution_count": 389,
     "metadata": {},
     "output_type": "execute_result"
    }
   ],
   "source": [
    "X.shape , y.shape"
   ]
  },
  {
   "cell_type": "code",
   "execution_count": 391,
   "id": "56d6273d-3048-4364-a807-728fb2a042fb",
   "metadata": {},
   "outputs": [
    {
     "data": {
      "text/plain": [
       "[<matplotlib.lines.Line2D at 0x19612f6fcd0>]"
      ]
     },
     "execution_count": 391,
     "metadata": {},
     "output_type": "execute_result"
    },
    {
     "data": {
      "image/png": "[encoded data removed]",
      "text/plain": [
       "<Figure size 400x400 with 1 Axes>"
      ]
     },
     "metadata": {},
     "output_type": "display_data"
    }
   ],
   "source": [
    "y_flat = y.flatten()\n",
    "pos = y_flat ==1\n",
    "neg = y_flat == 0\n",
    "X1, y1 = 173,11.9\n",
    "X2, y2 = 177,14.5\n",
    "X3, y3 = 174,12\n",
    "X4, y4 = 250.5,12\n",
    "X5, y5 = 250,12\n",
    "X6, y6 = 178.5,14.5\n",
    "fig , ax = plt.subplots(1,1, figsize =(4,4))\n",
    "ax.scatter(X[pos,0] , X[pos,1] , c = 'r' , marker = 'x'  )\n",
    "ax.scatter(X[neg,0] , X[neg,1] , c = 'b' , marker = 'o')\n",
    "ax.plot([X1, X2], [y1, y2], color='red', linestyle='-', linewidth=2, label='Line')\n",
    "ax.plot([X3, X4], [y3, y4], color='red', linestyle='-', linewidth=2, label='Line')\n",
    "ax.plot([X5, X6], [y5, y6], color='red', linestyle='-', linewidth=2, label='Line')\n"
   ]
  },
  {
   "cell_type": "markdown",
   "id": "24a05985-fa35-4524-bef4-fc3f7a8d20a1",
   "metadata": {},
   "source": [
    "## Now Find the max , min , Value of X and Y"
   ]
  },
  {
   "cell_type": "code",
   "execution_count": 394,
   "id": "9d699f11-6643-4b07-a284-211ca633737b",
   "metadata": {},
   "outputs": [
    {
     "name": "stdout",
     "output_type": "stream",
     "text": [
      "x_max = 284.99 , x_min = 151.32 \n",
      "x_max = 15.45 , x_min = 11.51 \n"
     ]
    }
   ],
   "source": [
    "print(f\"x_max = {np.max(X[:,0])} , x_min = {np.min(X[:,0])} \" )\n",
    "print(f\"x_max = {np.max(X[:,1])} , x_min = {np.min(X[:,1])} \" )\n"
   ]
  },
  {
   "cell_type": "code",
   "execution_count": 396,
   "id": "ad0d5a61-dbb3-4ac9-928c-a0bed809a85f",
   "metadata": {},
   "outputs": [
    {
     "data": {
      "text/plain": [
       "116.049025"
      ]
     },
     "execution_count": 396,
     "metadata": {},
     "output_type": "execute_result"
    }
   ],
   "source": [
    "np.mean(X)"
   ]
  },
  {
   "cell_type": "markdown",
   "id": "d8415597-9526-4196-b0f6-74ed0d6b2c48",
   "metadata": {},
   "source": [
    "### Normalization , Mean , and Varaince of X"
   ]
  },
  {
   "cell_type": "code",
   "execution_count": 399,
   "id": "0cd24150-849b-46c9-8a97-345d85669754",
   "metadata": {},
   "outputs": [],
   "source": [
    "norm_l = tf.keras.layers.Normalization(axis = -1)\n",
    "norm_l.adapt(X)\n",
    "Xn = norm_l(X)"
   ]
  },
  {
   "cell_type": "markdown",
   "id": "1fe7885a-c888-43b5-a703-c63b1957d0b5",
   "metadata": {},
   "source": [
    "### Max and Min value of X After Normalization"
   ]
  },
  {
   "cell_type": "code",
   "execution_count": 402,
   "id": "1d5b2376-2e37-42be-9820-24ea66fede86",
   "metadata": {},
   "outputs": [
    {
     "name": "stdout",
     "output_type": "stream",
     "text": [
      "Tempraature_Max1.6596590280532837Tempraature_Max-1.685308575630188 , \n",
      "Durartion_Max1.7897582054138184Duration_Max-1.7021063566207886 , \n"
     ]
    }
   ],
   "source": [
    "print(f\"Tempraature_Max{np.max(Xn[:,0])}Tempraature_Max{np.min(Xn[:,0])} , \")\n",
    "print(f\"Durartion_Max{np.max(Xn[:,1])}Duration_Max{np.min(Xn[:,1])} , \")"
   ]
  },
  {
   "cell_type": "code",
   "execution_count": 404,
   "id": "c249ea00-b983-458a-9c2a-649c1f2f1c70",
   "metadata": {},
   "outputs": [
    {
     "name": "stdout",
     "output_type": "stream",
     "text": [
      "(200000, 2) (200000, 1)\n"
     ]
    }
   ],
   "source": [
    "Xt = np.tile(Xn,(1000,1))\n",
    "Yt= np.tile(y,(1000,1))   \n",
    "print(Xt.shape, Yt.shape)   "
   ]
  },
  {
   "cell_type": "code",
   "execution_count": 406,
   "id": "98137a05-74f3-4b0d-8eaf-847478f3449d",
   "metadata": {},
   "outputs": [],
   "source": [
    "tf.random.set_seed(1234)\n",
    "model = Sequential(\n",
    "    [\n",
    "    tf.keras.Input(shape = (2,)),\n",
    "    Dense(3, activation = 'sigmoid' ,name = 'Layer_1'),\n",
    "    Dense(1,activation = 'sigmoid' , name = 'Layer_2')\n",
    "\n",
    "]\n",
    ")"
   ]
  },
  {
   "cell_type": "code",
   "execution_count": 408,
   "id": "733244fa-4950-43f8-80a2-64102e9155d4",
   "metadata": {},
   "outputs": [
    {
     "data": {
      "text/html": [
       "<pre style=\"white-space:pre;overflow-x:auto;line-height:normal;font-family:Menlo,'DejaVu Sans Mono',consolas,'Courier New',monospace\"><span style=\"font-weight: bold\">Model: \"sequential_7\"</span>\n",
       "</pre>\n"
      ],
      "text/plain": [
       "\u001b[1mModel: \"sequential_7\"\u001b[0m\n"
      ]
     },
     "metadata": {},
     "output_type": "display_data"
    },
    {
     "data": {
      "text/html": [
       "<pre style=\"white-space:pre;overflow-x:auto;line-height:normal;font-family:Menlo,'DejaVu Sans Mono',consolas,'Courier New',monospace\">┏━━━━━━━━━━━━━━━━━━━━━━━━━━━━━━━━━━━━━━┳━━━━━━━━━━━━━━━━━━━━━━━━━━━━━┳━━━━━━━━━━━━━━━━━┓\n",
       "┃<span style=\"font-weight: bold\"> Layer (type)                         </span>┃<span style=\"font-weight: bold\"> Output Shape                </span>┃<span style=\"font-weight: bold\">         Param # </span>┃\n",
       "┡━━━━━━━━━━━━━━━━━━━━━━━━━━━━━━━━━━━━━━╇━━━━━━━━━━━━━━━━━━━━━━━━━━━━━╇━━━━━━━━━━━━━━━━━┩\n",
       "│ Layer_1 (<span style=\"color: #0087ff; text-decoration-color: #0087ff\">Dense</span>)                      │ (<span style=\"color: #00d7ff; text-decoration-color: #00d7ff\">None</span>, <span style=\"color: #00af00; text-decoration-color: #00af00\">3</span>)                   │               <span style=\"color: #00af00; text-decoration-color: #00af00\">9</span> │\n",
       "├──────────────────────────────────────┼─────────────────────────────┼─────────────────┤\n",
       "│ Layer_2 (<span style=\"color: #0087ff; text-decoration-color: #0087ff\">Dense</span>)                      │ (<span style=\"color: #00d7ff; text-decoration-color: #00d7ff\">None</span>, <span style=\"color: #00af00; text-decoration-color: #00af00\">1</span>)                   │               <span style=\"color: #00af00; text-decoration-color: #00af00\">4</span> │\n",
       "└──────────────────────────────────────┴─────────────────────────────┴─────────────────┘\n",
       "</pre>\n"
      ],
      "text/plain": [
       "┏━━━━━━━━━━━━━━━━━━━━━━━━━━━━━━━━━━━━━━┳━━━━━━━━━━━━━━━━━━━━━━━━━━━━━┳━━━━━━━━━━━━━━━━━┓\n",
       "┃\u001b[1m \u001b[0m\u001b[1mLayer (type)                        \u001b[0m\u001b[1m \u001b[0m┃\u001b[1m \u001b[0m\u001b[1mOutput Shape               \u001b[0m\u001b[1m \u001b[0m┃\u001b[1m \u001b[0m\u001b[1m        Param #\u001b[0m\u001b[1m \u001b[0m┃\n",
       "┡━━━━━━━━━━━━━━━━━━━━━━━━━━━━━━━━━━━━━━╇━━━━━━━━━━━━━━━━━━━━━━━━━━━━━╇━━━━━━━━━━━━━━━━━┩\n",
       "│ Layer_1 (\u001b[38;5;33mDense\u001b[0m)                      │ (\u001b[38;5;45mNone\u001b[0m, \u001b[38;5;34m3\u001b[0m)                   │               \u001b[38;5;34m9\u001b[0m │\n",
       "├──────────────────────────────────────┼─────────────────────────────┼─────────────────┤\n",
       "│ Layer_2 (\u001b[38;5;33mDense\u001b[0m)                      │ (\u001b[38;5;45mNone\u001b[0m, \u001b[38;5;34m1\u001b[0m)                   │               \u001b[38;5;34m4\u001b[0m │\n",
       "└──────────────────────────────────────┴─────────────────────────────┴─────────────────┘\n"
      ]
     },
     "metadata": {},
     "output_type": "display_data"
    },
    {
     "data": {
      "text/html": [
       "<pre style=\"white-space:pre;overflow-x:auto;line-height:normal;font-family:Menlo,'DejaVu Sans Mono',consolas,'Courier New',monospace\"><span style=\"font-weight: bold\"> Total params: </span><span style=\"color: #00af00; text-decoration-color: #00af00\">13</span> (52.00 B)\n",
       "</pre>\n"
      ],
      "text/plain": [
       "\u001b[1m Total params: \u001b[0m\u001b[38;5;34m13\u001b[0m (52.00 B)\n"
      ]
     },
     "metadata": {},
     "output_type": "display_data"
    },
    {
     "data": {
      "text/html": [
       "<pre style=\"white-space:pre;overflow-x:auto;line-height:normal;font-family:Menlo,'DejaVu Sans Mono',consolas,'Courier New',monospace\"><span style=\"font-weight: bold\"> Trainable params: </span><span style=\"color: #00af00; text-decoration-color: #00af00\">13</span> (52.00 B)\n",
       "</pre>\n"
      ],
      "text/plain": [
       "\u001b[1m Trainable params: \u001b[0m\u001b[38;5;34m13\u001b[0m (52.00 B)\n"
      ]
     },
     "metadata": {},
     "output_type": "display_data"
    },
    {
     "data": {
      "text/html": [
       "<pre style=\"white-space:pre;overflow-x:auto;line-height:normal;font-family:Menlo,'DejaVu Sans Mono',consolas,'Courier New',monospace\"><span style=\"font-weight: bold\"> Non-trainable params: </span><span style=\"color: #00af00; text-decoration-color: #00af00\">0</span> (0.00 B)\n",
       "</pre>\n"
      ],
      "text/plain": [
       "\u001b[1m Non-trainable params: \u001b[0m\u001b[38;5;34m0\u001b[0m (0.00 B)\n"
      ]
     },
     "metadata": {},
     "output_type": "display_data"
    }
   ],
   "source": [
    "model.summary()"
   ]
  },
  {
   "cell_type": "code",
   "execution_count": 410,
   "id": "83bbf3e6-5f6e-46a3-8e7c-9fa6b4efea86",
   "metadata": {},
   "outputs": [
    {
     "data": {
      "text/plain": [
       "(9, 4)"
      ]
     },
     "execution_count": 410,
     "metadata": {},
     "output_type": "execute_result"
    }
   ],
   "source": [
    "L1_P = 2 * 3 +3\n",
    "L2_P = 3 * 1 +1\n",
    "L1_P,L2_P"
   ]
  },
  {
   "cell_type": "code",
   "execution_count": 435,
   "id": "8f8b0232-559c-4557-8a31-382f374cc5d2",
   "metadata": {},
   "outputs": [
    {
     "name": "stdout",
     "output_type": "stream",
     "text": [
      "W1, b1 (array([[ 0.0780879 , 14.6112995 , 12.592971  ],\n",
      "       [-8.89443   , 12.2606735 ,  0.29940733]], dtype=float32), array([-11.12851  ,   1.8582839,  13.189342 ], dtype=float32)) ,\n",
      " W2 , b2 (array([[-44.777122],\n",
      "       [-42.368397],\n",
      "       [ 38.465206]], dtype=float32), array([-12.338288], dtype=float32))\n"
     ]
    }
   ],
   "source": [
    "W1 , b1 = model.get_layer(\"Layer_1\").get_weights()\n",
    "W2 , b2 = model.get_layer(\"Layer_2\").get_weights()\n",
    "print(f'W1, b1 {W1,b1} ,\\n W2 , b2 {W2,b2}')"
   ]
  },
  {
   "cell_type": "code",
   "execution_count": 414,
   "id": "a3fee056-0ec6-4fc2-ad86-4e3f9892d662",
   "metadata": {},
   "outputs": [
    {
     "data": {
      "text/plain": [
       "((2, 3), (3,))"
      ]
     },
     "execution_count": 414,
     "metadata": {},
     "output_type": "execute_result"
    }
   ],
   "source": [
    "W1.shape,b1.shape"
   ]
  },
  {
   "cell_type": "code",
   "execution_count": 416,
   "id": "4a2628fe-d66c-4c6b-8107-1249b2d9adf7",
   "metadata": {},
   "outputs": [
    {
     "name": "stdout",
     "output_type": "stream",
     "text": [
      "Epoch 1/10\n",
      "\u001b[1m6250/6250\u001b[0m \u001b[32m━━━━━━━━━━━━━━━━━━━━\u001b[0m\u001b[37m\u001b[0m \u001b[1m11s\u001b[0m 2ms/step - loss: 0.3022\n",
      "Epoch 2/10\n",
      "\u001b[1m6250/6250\u001b[0m \u001b[32m━━━━━━━━━━━━━━━━━━━━\u001b[0m\u001b[37m\u001b[0m \u001b[1m10s\u001b[0m 2ms/step - loss: 0.1246\n",
      "Epoch 3/10\n",
      "\u001b[1m6250/6250\u001b[0m \u001b[32m━━━━━━━━━━━━━━━━━━━━\u001b[0m\u001b[37m\u001b[0m \u001b[1m9s\u001b[0m 1ms/step - loss: 0.1015\n",
      "Epoch 4/10\n",
      "\u001b[1m6250/6250\u001b[0m \u001b[32m━━━━━━━━━━━━━━━━━━━━\u001b[0m\u001b[37m\u001b[0m \u001b[1m11s\u001b[0m 2ms/step - loss: 0.0235\n",
      "Epoch 5/10\n",
      "\u001b[1m6250/6250\u001b[0m \u001b[32m━━━━━━━━━━━━━━━━━━━━\u001b[0m\u001b[37m\u001b[0m \u001b[1m10s\u001b[0m 2ms/step - loss: 0.0139\n",
      "Epoch 6/10\n",
      "\u001b[1m6250/6250\u001b[0m \u001b[32m━━━━━━━━━━━━━━━━━━━━\u001b[0m\u001b[37m\u001b[0m \u001b[1m10s\u001b[0m 2ms/step - loss: 0.0097\n",
      "Epoch 7/10\n",
      "\u001b[1m6250/6250\u001b[0m \u001b[32m━━━━━━━━━━━━━━━━━━━━\u001b[0m\u001b[37m\u001b[0m \u001b[1m10s\u001b[0m 2ms/step - loss: 0.0070\n",
      "Epoch 8/10\n",
      "\u001b[1m6250/6250\u001b[0m \u001b[32m━━━━━━━━━━━━━━━━━━━━\u001b[0m\u001b[37m\u001b[0m \u001b[1m11s\u001b[0m 2ms/step - loss: 0.0051\n",
      "Epoch 9/10\n",
      "\u001b[1m6250/6250\u001b[0m \u001b[32m━━━━━━━━━━━━━━━━━━━━\u001b[0m\u001b[37m\u001b[0m \u001b[1m10s\u001b[0m 2ms/step - loss: 0.0038\n",
      "Epoch 10/10\n",
      "\u001b[1m6250/6250\u001b[0m \u001b[32m━━━━━━━━━━━━━━━━━━━━\u001b[0m\u001b[37m\u001b[0m \u001b[1m10s\u001b[0m 2ms/step - loss: 0.0029\n"
     ]
    },
    {
     "data": {
      "text/plain": [
       "<keras.src.callbacks.history.History at 0x19612ad46d0>"
      ]
     },
     "execution_count": 416,
     "metadata": {},
     "output_type": "execute_result"
    }
   ],
   "source": [
    "model.compile(\n",
    "    loss = tf.keras.losses.BinaryCrossentropy(),\n",
    "    optimizer = tf.keras.optimizers.Adam(learning_rate=0.01),\n",
    ")\n",
    "\n",
    "model.fit(\n",
    "    Xt,Yt,            \n",
    "    epochs=10,\n",
    ")"
   ]
  },
  {
   "cell_type": "markdown",
   "id": "9eb82794-dcdc-44ae-be96-d91e391aca95",
   "metadata": {},
   "source": [
    "# After Updated the Weights "
   ]
  },
  {
   "cell_type": "code",
   "execution_count": 418,
   "id": "a54c65e6-9bb2-42f6-93a2-84d70440d44d",
   "metadata": {},
   "outputs": [],
   "source": [
    "W1,b1 = model.get_layer(\"Layer_1\").get_weights()\n",
    "W2 , b2 = model.get_layer(\"Layer_2\").get_weights()"
   ]
  },
  {
   "cell_type": "code",
   "execution_count": 423,
   "id": "2c8f0bd8-864a-42b0-9c6e-0ab5ca148d7b",
   "metadata": {},
   "outputs": [
    {
     "data": {
      "text/plain": [
       "(array([[ 0.0780879 , 14.6112995 , 12.592971  ],\n",
       "        [-8.89443   , 12.2606735 ,  0.29940733]], dtype=float32),\n",
       " array([-11.12851  ,   1.8582839,  13.189342 ], dtype=float32))"
      ]
     },
     "execution_count": 423,
     "metadata": {},
     "output_type": "execute_result"
    }
   ],
   "source": [
    "W1,b1"
   ]
  },
  {
   "cell_type": "code",
   "execution_count": 429,
   "id": "f5a7e95e-e1dd-4adc-8c9a-366bf710c27a",
   "metadata": {},
   "outputs": [
    {
     "data": {
      "text/plain": [
       "(array([[-44.777122],\n",
       "        [-42.368397],\n",
       "        [ 38.465206]], dtype=float32),\n",
       " array([-12.338288], dtype=float32))"
      ]
     },
     "execution_count": 429,
     "metadata": {},
     "output_type": "execute_result"
    }
   ],
   "source": [
    "W2 ,b2"
   ]
  },
  {
   "cell_type": "markdown",
   "id": "24623d05-b9da-4771-998f-4b60abf033ab",
   "metadata": {},
   "source": [
    "## Set Wights"
   ]
  },
  {
   "cell_type": "code",
   "execution_count": 438,
   "id": "a5352ce1-dece-425f-8f3e-e321882501e6",
   "metadata": {},
   "outputs": [],
   "source": [
    "W1 = np.array([\n",
    "    [-8.94,  0.29, 12.89],\n",
    "    [-0.17, -7.34, 10.79]] )\n",
    "b1 = np.array([-9.87, -9.28,  1.01])\n",
    "W2 = np.array([\n",
    "    [-31.38],\n",
    "    [-27.86],\n",
    "    [-32.79]])\n",
    "b2 = np.array([15.54])\n",
    "\n",
    "# Replace the weights from your trained model with\n",
    "# the values above.\n",
    "model.get_layer(\"Layer_1\").set_weights([W1,b1])\n",
    "model.get_layer(\"Layer_2\").set_weights([W2,b2])"
   ]
  },
  {
   "cell_type": "code",
   "execution_count": 440,
   "id": "1ba72260-60bf-4c62-b74c-4dff727e2546",
   "metadata": {},
   "outputs": [
    {
     "name": "stdout",
     "output_type": "stream",
     "text": [
      "W1:\n",
      " [[-8.94  0.29 12.89]\n",
      " [-0.17 -7.34 10.79]] \n",
      "b1: [-9.87 -9.28  1.01]\n",
      "W2:\n",
      " [[-31.38]\n",
      " [-27.86]\n",
      " [-32.79]] \n",
      "b2: [15.54]\n"
     ]
    }
   ],
   "source": [
    "W1, b1 = model.get_layer(\"Layer_1\").get_weights()\n",
    "W2, b2 = model.get_layer(\"Layer_2\").get_weights()\n",
    "print(\"W1:\\n\", W1, \"\\nb1:\", b1)\n",
    "print(\"W2:\\n\", W2, \"\\nb2:\", b2)"
   ]
  },
  {
   "cell_type": "code",
   "execution_count": 442,
   "id": "33fae8fd-63f4-4fb3-99e7-b42cf36f93c1",
   "metadata": {},
   "outputs": [
    {
     "name": "stdout",
     "output_type": "stream",
     "text": [
      "\u001b[1m1/1\u001b[0m \u001b[32m━━━━━━━━━━━━━━━━━━━━\u001b[0m\u001b[37m\u001b[0m \u001b[1m0s\u001b[0m 93ms/step\n",
      "predictions = \n",
      " [[9.620396e-01]\n",
      " [3.031629e-08]]\n"
     ]
    }
   ],
   "source": [
    "X_test = np.array([\n",
    "    [200,13.9],  \n",
    "    [200,17]])   \n",
    "X_testn = norm_l(X_test)\n",
    "predictions = model.predict(X_testn)\n",
    "print(\"predictions = \\n\", predictions)"
   ]
  },
  {
   "cell_type": "code",
   "execution_count": 444,
   "id": "dfe43862-fe6e-4901-86bc-4d342668df5e",
   "metadata": {},
   "outputs": [
    {
     "name": "stdout",
     "output_type": "stream",
     "text": [
      "decisions = \n",
      "[[1.]\n",
      " [0.]]\n"
     ]
    }
   ],
   "source": [
    "y_pred = np.zeros_like(predictions)\n",
    "for i in range(len(predictions)):\n",
    "    if predictions[i] >= 0.5:\n",
    "        y_pred[i] = 1\n",
    "    else:\n",
    "        yhat[i] = 0\n",
    "print(f\"decisions = \\n{y_pred}\")"
   ]
  },
  {
   "cell_type": "code",
   "execution_count": null,
   "id": "c6443a0f-af18-4b6c-9a47-db5a92984425",
   "metadata": {},
   "outputs": [],
   "source": []
  }
 ],
 "metadata": {
  "kernelspec": {
   "display_name": "Python 3 (ipykernel)",
   "language": "python",
   "name": "python3"
  },
  "language_info": {
   "codemirror_mode": {
    "name": "ipython",
    "version": 3
   },
   "file_extension": ".py",
   "mimetype": "text/x-python",
   "name": "python",
   "nbconvert_exporter": "python",
   "pygments_lexer": "ipython3",
   "version": "3.11.5"
  },
  "widgets": {
   "application/vnd.jupyter.widget-state+json": {
    "state": {},
    "version_major": 2,
    "version_minor": 0
   }
  }
 },
 "nbformat": 4,
 "nbformat_minor": 5
}
