{
 "cells": [
  {
   "cell_type": "code",
   "execution_count": 522,
   "id": "cf1dd603-6c55-4625-95a9-8f618de4340f",
   "metadata": {},
   "outputs": [],
   "source": [
    "import numpy as np\n",
    "import matplotlib.pyplot as plt\n",
    "import tensorflow as tf\n",
    "import pandas as pd"
   ]
  },
  {
   "cell_type": "code",
   "execution_count": 539,
   "id": "36526feb-61a3-4f9d-af6d-c1f625abdd5e",
   "metadata": {},
   "outputs": [
    {
     "data": {
      "text/plain": [
       "array([1.])"
      ]
     },
     "execution_count": 539,
     "metadata": {},
     "output_type": "execute_result"
    }
   ],
   "source": [
    "def sigmoid(z):\n",
    "   return 1 / (1 + np.exp(-z))\n",
    "X = np.array([[200,17]])\n",
    "w1_1 = np.array([1,2])\n",
    "b1_1 = np.array([-1])\n",
    "z1_1 = (np.dot( X,w1_1 ) +b1_1)\n",
    "a1_1 = sigmoid(z1_1)\n",
    "a1_1"
   ]
  },
  {
   "cell_type": "code",
   "execution_count": 541,
   "id": "1c7d0fe7-4f4b-4098-9247-3175a2edf095",
   "metadata": {},
   "outputs": [
    {
     "data": {
      "text/plain": [
       "array([2.45261912e-231])"
      ]
     },
     "execution_count": 541,
     "metadata": {},
     "output_type": "execute_result"
    }
   ],
   "source": [
    "w1_2 = np.array([-3,4])\n",
    "b1_2 = np.array([1])\n",
    "z1_2 = (np.dot( X,w1_2 ) +b1_2)\n",
    "a1_2 = sigmoid(z1_2)\n",
    "a1_2"
   ]
  },
  {
   "cell_type": "code",
   "execution_count": 543,
   "id": "bca16668-c991-4279-99b8-f0a416fe9d88",
   "metadata": {},
   "outputs": [
    {
     "data": {
      "text/plain": [
       "array([1.])"
      ]
     },
     "execution_count": 543,
     "metadata": {},
     "output_type": "execute_result"
    }
   ],
   "source": [
    "w1_3 = np.array([5,-6])\n",
    "b1_3 = np.array([2])\n",
    "z1_3 = (np.dot( X,w1_3 ) +b1_3)\n",
    "a1_3 = sigmoid(z1_3)\n",
    "a1_3"
   ]
  },
  {
   "cell_type": "code",
   "execution_count": 545,
   "id": "3d8cdfd9-3563-4555-a3e9-bf03bb3c13a4",
   "metadata": {},
   "outputs": [],
   "source": [
    "a1 = np.array([a1_1,a1_2,a1_3])"
   ]
  },
  {
   "cell_type": "code",
   "execution_count": 532,
   "id": "f8ca1de4-6b2b-4c20-81a3-dfd282144230",
   "metadata": {},
   "outputs": [
    {
     "data": {
      "text/plain": [
       "array([[1.00000000e+000],\n",
       "       [2.45261912e-231],\n",
       "       [1.00000000e+000]])"
      ]
     },
     "execution_count": 532,
     "metadata": {},
     "output_type": "execute_result"
    }
   ],
   "source": [
    "a1"
   ]
  },
  {
   "cell_type": "markdown",
   "id": "9a0ec32f-e92b-4192-9ed2-36ff83176ae7",
   "metadata": {},
   "source": [
    "### Where a2_1"
   ]
  },
  {
   "cell_type": "code",
   "execution_count": 535,
   "id": "103f8d98-3c9a-4930-ab79-50e1d060d3ff",
   "metadata": {},
   "outputs": [
    {
     "data": {
      "text/plain": [
       "array([[0.99330715]])"
      ]
     },
     "execution_count": 535,
     "metadata": {},
     "output_type": "execute_result"
    }
   ],
   "source": [
    "w2_1 = np.array([[-7,8,9]])\n",
    "b2_1 = np.array([3])\n",
    "z2_1 = np.dot(w2_1 , a1) +b2_1\n",
    "a2 = sigmoid(z2_1)\n",
    "a2"
   ]
  },
  {
   "cell_type": "code",
   "execution_count": 537,
   "id": "c98a0565-7064-4fac-a6a0-51decb01cf0c",
   "metadata": {},
   "outputs": [],
   "source": [
    "df = pd.read_csv(\"C:\\\\Users\\\\PMLS\\\\Desktop\\\\Data_Sets\\\\Coffe_rost_Data.csv\")\n"
   ]
  },
  {
   "cell_type": "code",
   "execution_count": 174,
   "id": "3b7d9a25-4c25-4394-999b-50cc44bd6ebe",
   "metadata": {},
   "outputs": [
    {
     "data": {
      "text/html": [
       "<div>\n",
       "<style scoped>\n",
       "    .dataframe tbody tr th:only-of-type {\n",
       "        vertical-align: middle;\n",
       "    }\n",
       "\n",
       "    .dataframe tbody tr th {\n",
       "        vertical-align: top;\n",
       "    }\n",
       "\n",
       "    .dataframe thead th {\n",
       "        text-align: right;\n",
       "    }\n",
       "</style>\n",
       "<table border=\"1\" class=\"dataframe\">\n",
       "  <thead>\n",
       "    <tr style=\"text-align: right;\">\n",
       "      <th></th>\n",
       "      <th>Temprature</th>\n",
       "      <th>Duration</th>\n",
       "      <th>Taste</th>\n",
       "    </tr>\n",
       "  </thead>\n",
       "  <tbody>\n",
       "    <tr>\n",
       "      <th>0</th>\n",
       "      <td>185.32</td>\n",
       "      <td>12.69</td>\n",
       "      <td>1</td>\n",
       "    </tr>\n",
       "    <tr>\n",
       "      <th>1</th>\n",
       "      <td>259.92</td>\n",
       "      <td>11.87</td>\n",
       "      <td>0</td>\n",
       "    </tr>\n",
       "    <tr>\n",
       "      <th>2</th>\n",
       "      <td>231.01</td>\n",
       "      <td>14.41</td>\n",
       "      <td>0</td>\n",
       "    </tr>\n",
       "    <tr>\n",
       "      <th>3</th>\n",
       "      <td>175.37</td>\n",
       "      <td>11.72</td>\n",
       "      <td>0</td>\n",
       "    </tr>\n",
       "    <tr>\n",
       "      <th>4</th>\n",
       "      <td>187.12</td>\n",
       "      <td>14.13</td>\n",
       "      <td>1</td>\n",
       "    </tr>\n",
       "    <tr>\n",
       "      <th>...</th>\n",
       "      <td>...</td>\n",
       "      <td>...</td>\n",
       "      <td>...</td>\n",
       "    </tr>\n",
       "    <tr>\n",
       "      <th>195</th>\n",
       "      <td>223.78</td>\n",
       "      <td>15.30</td>\n",
       "      <td>0</td>\n",
       "    </tr>\n",
       "    <tr>\n",
       "      <th>196</th>\n",
       "      <td>266.63</td>\n",
       "      <td>12.48</td>\n",
       "      <td>0</td>\n",
       "    </tr>\n",
       "    <tr>\n",
       "      <th>197</th>\n",
       "      <td>273.68</td>\n",
       "      <td>13.10</td>\n",
       "      <td>0</td>\n",
       "    </tr>\n",
       "    <tr>\n",
       "      <th>198</th>\n",
       "      <td>220.61</td>\n",
       "      <td>12.80</td>\n",
       "      <td>1</td>\n",
       "    </tr>\n",
       "    <tr>\n",
       "      <th>199</th>\n",
       "      <td>284.99</td>\n",
       "      <td>12.73</td>\n",
       "      <td>0</td>\n",
       "    </tr>\n",
       "  </tbody>\n",
       "</table>\n",
       "<p>200 rows × 3 columns</p>\n",
       "</div>"
      ],
      "text/plain": [
       "     Temprature  Duration  Taste\n",
       "0        185.32     12.69      1\n",
       "1        259.92     11.87      0\n",
       "2        231.01     14.41      0\n",
       "3        175.37     11.72      0\n",
       "4        187.12     14.13      1\n",
       "..          ...       ...    ...\n",
       "195      223.78     15.30      0\n",
       "196      266.63     12.48      0\n",
       "197      273.68     13.10      0\n",
       "198      220.61     12.80      1\n",
       "199      284.99     12.73      0\n",
       "\n",
       "[200 rows x 3 columns]"
      ]
     },
     "execution_count": 174,
     "metadata": {},
     "output_type": "execute_result"
    }
   ],
   "source": [
    "df"
   ]
  },
  {
   "cell_type": "code",
   "execution_count": 176,
   "id": "dd56f1a3-ecaa-4cda-846c-422a8ecedca9",
   "metadata": {},
   "outputs": [],
   "source": [
    "X = df[['Temprature', 'Duration']].values\n",
    "y = df['Taste'].values"
   ]
  },
  {
   "cell_type": "code",
   "execution_count": 178,
   "id": "93132257-2a43-4519-966b-66d0440e3ce2",
   "metadata": {},
   "outputs": [
    {
     "data": {
      "text/plain": [
       "((200, 2), (200,))"
      ]
     },
     "execution_count": 178,
     "metadata": {},
     "output_type": "execute_result"
    }
   ],
   "source": [
    "X.shape, y.shape"
   ]
  },
  {
   "cell_type": "code",
   "execution_count": 477,
   "id": "fa1a025d-83e1-4cac-a255-aab54d356a03",
   "metadata": {},
   "outputs": [
    {
     "data": {
      "text/plain": [
       "(200, 1)"
      ]
     },
     "execution_count": 477,
     "metadata": {},
     "output_type": "execute_result"
    }
   ],
   "source": [
    "y = y.reshape(-1,1)\n",
    "y.shape"
   ]
  },
  {
   "cell_type": "code",
   "execution_count": 487,
   "id": "5355c3cc-c227-445b-b014-5746a711d8b1",
   "metadata": {},
   "outputs": [],
   "source": [
    "def plot_Data(X,y,Q):\n",
    "        \n",
    "    fig,ax = plt.subplots(1,1,figsize=(4,4))\n",
    "    \n",
    "    pos = y[:, 0] == 1\n",
    "    neg = y[:, 0] == 0\n",
    "    ax.scatter(X[pos][:, 0], X[pos][:, 1], c='r', marker='+', label='y=1')\n",
    "    ax.scatter(X[neg][:, 0], X[neg][:, 1], c='b', marker='o', label='y=0')\n",
    "    ax.legend()"
   ]
  },
  {
   "cell_type": "code",
   "execution_count": 319,
   "id": "1a20eb3a-94aa-4e89-a074-431136f53409",
   "metadata": {},
   "outputs": [],
   "source": [
    "norm_l = tf.keras.layers.Normalization(axis=-1)\n",
    "norm_l.adapt(X)\n",
    "Xn = norm_l(X)"
   ]
  },
  {
   "cell_type": "code",
   "execution_count": 321,
   "id": "aa3b36c7-ed9f-4068-9778-291972f3c068",
   "metadata": {},
   "outputs": [
    {
     "data": {
      "text/plain": [
       "(1.659659, -1.6853086)"
      ]
     },
     "execution_count": 321,
     "metadata": {},
     "output_type": "execute_result"
    }
   ],
   "source": [
    "np.max(Xn[:,0]) , np.min(Xn[:,0])"
   ]
  },
  {
   "cell_type": "code",
   "execution_count": 323,
   "id": "961e0b72-7037-460c-8acc-b54f5e3a1351",
   "metadata": {},
   "outputs": [
    {
     "data": {
      "text/plain": [
       "(1.7897582, -1.7021064)"
      ]
     },
     "execution_count": 323,
     "metadata": {},
     "output_type": "execute_result"
    }
   ],
   "source": [
    "np.max(Xn[:,1])  , np.min(Xn[:,1])"
   ]
  },
  {
   "cell_type": "code",
   "execution_count": 425,
   "id": "d9b2a212-5ae2-4d39-90aa-705e53d2858c",
   "metadata": {},
   "outputs": [],
   "source": [
    "def sigmoid(z):\n",
    "    return 1 / (1+np.exp(-z))\n",
    "\n",
    "\n"
   ]
  },
  {
   "cell_type": "code",
   "execution_count": 453,
   "id": "67d57e00-0093-4517-9293-b991f0cb510f",
   "metadata": {},
   "outputs": [],
   "source": [
    "def dense(a_in , W,b):\n",
    "    units = W.shape[1]\n",
    "    a_out = np.zeros(units)\n",
    "    for j in range(units):\n",
    "        w = W[:,j]\n",
    "        z = np.dot(w , a_in) + b[j]\n",
    "        a_out[j] = sigmoid(z)\n",
    "\n",
    "    return a_out"
   ]
  },
  {
   "cell_type": "code",
   "execution_count": 455,
   "id": "e85c419a-7e43-4293-9e0c-3e2bfc54cc1e",
   "metadata": {},
   "outputs": [],
   "source": [
    "def sequential(X,W1,b1,W2,b2):\n",
    "    a1 = dense(X,W1 , b1 )\n",
    "    a2 = dense(a1 , W2,b2)\n",
    "    return a2"
   ]
  },
  {
   "cell_type": "code",
   "execution_count": 458,
   "id": "65b4f56d-32bc-4c19-9250-c459b854fe3f",
   "metadata": {},
   "outputs": [],
   "source": [
    "def predict(X,W1 , b1 , W2 , b2):\n",
    "    m = X.shape[0]\n",
    "    p  = np.zeros((m,1))\n",
    "    for i in range(m):\n",
    "        p[i,0] = sequential(X[i] , W1,b1 , W2 , b2)\n",
    "\n",
    "    return (p)"
   ]
  },
  {
   "cell_type": "code",
   "execution_count": 460,
   "id": "776ad12e-d788-4ed0-9a20-fafd84e486e0",
   "metadata": {},
   "outputs": [],
   "source": [
    "W1_tmp = np.array( [[-8.93,  0.29, 12.9 ], [-0.1,  -7.32, 10.81]] )\n",
    "b1_tmp = np.array( [-9.82, -9.28,  0.96] )\n",
    "W2_tmp = np.array( [[-31.18], [-27.59], [-32.56]] )\n",
    "b2_tmp = np.array( [15.41] )"
   ]
  },
  {
   "cell_type": "code",
   "execution_count": 464,
   "id": "c7c8f84a-dde3-49cc-ac1c-42d596c47661",
   "metadata": {},
   "outputs": [
    {
     "name": "stderr",
     "output_type": "stream",
     "text": [
      "C:\\Users\\PMLS\\AppData\\Local\\Temp\\ipykernel_21296\\2796903402.py:5: DeprecationWarning: Conversion of an array with ndim > 0 to a scalar is deprecated, and will error in future. Ensure you extract a single element from your array before performing this operation. (Deprecated NumPy 1.25.)\n",
      "  p[i,0] = sequential(X[i] , W1,b1 , W2 , b2)\n"
     ]
    },
    {
     "data": {
      "text/plain": [
       "array([[9.71579948e-01],\n",
       "       [3.28981203e-08]])"
      ]
     },
     "execution_count": 464,
     "metadata": {},
     "output_type": "execute_result"
    }
   ],
   "source": [
    "X_tst = np.array([\n",
    "    [200,13.9],  # postive example\n",
    "    [200,17]])   # negative example\n",
    "X_tstn = norm_l(X_tst)  # remember to normalize\n",
    "predictions = predict(X_tstn, W1_tmp, b1_tmp, W2_tmp, b2_tmp)\n",
    "predictions"
   ]
  },
  {
   "cell_type": "code",
   "execution_count": 469,
   "id": "3a08083e-17c0-458a-9b28-d029c387cadb",
   "metadata": {},
   "outputs": [
    {
     "name": "stdout",
     "output_type": "stream",
     "text": [
      "decision [[1.]\n",
      " [0.]]\n"
     ]
    }
   ],
   "source": [
    "y_hat = np.zeros_like(predictions)\n",
    "for i in range(len(predictions)):\n",
    "    if predictions[i] >= 0.5:\n",
    "        y_hat[i] = 1\n",
    "    else:\n",
    "        y_hat[i] = 0\n",
    "\n",
    "print(f'decision {y_hat}')"
   ]
  },
  {
   "cell_type": "code",
   "execution_count": 473,
   "id": "58e00c10-f2b5-445a-88b0-c0bc27c2b618",
   "metadata": {},
   "outputs": [
    {
     "name": "stdout",
     "output_type": "stream",
     "text": [
      "decisions[[1]\n",
      " [0]]\n"
     ]
    }
   ],
   "source": [
    "yhat = (predictions >= 0.5).astype(int)\n",
    "print(f\"decisions{yhat}\")"
   ]
  },
  {
   "cell_type": "code",
   "execution_count": 493,
   "id": "4579f8d9-631a-42dc-810f-e0af38211ee4",
   "metadata": {},
   "outputs": [
    {
     "data": {
      "text/plain": [
       "<function __main__.<lambda>(x)>"
      ]
     },
     "execution_count": 493,
     "metadata": {},
     "output_type": "execute_result"
    }
   ],
   "source": [
    "netf= lambda x : my_predict(norm_l(x),W1_tmp, b1_tmp, W2_tmp, b2_tmp)"
   ]
  },
  {
   "cell_type": "code",
   "execution_count": 503,
   "id": "05199fa6-a960-4bac-a3ed-5e23e5d4f8e9",
   "metadata": {},
   "outputs": [
    {
     "data": {
      "image/png": "[encoded data removed]",
      "text/plain": [
       "<Figure size 400x400 with 1 Axes>"
      ]
     },
     "metadata": {},
     "output_type": "display_data"
    }
   ],
   "source": [
    "plot_Data(X,y,netf)"
   ]
  },
  {
   "cell_type": "code",
   "execution_count": null,
   "id": "5f28523b-f555-4272-a69a-347bc58d5e1e",
   "metadata": {},
   "outputs": [],
   "source": []
  }
 ],
 "metadata": {
  "kernelspec": {
   "display_name": "Python 3 (ipykernel)",
   "language": "python",
   "name": "python3"
  },
  "language_info": {
   "codemirror_mode": {
    "name": "ipython",
    "version": 3
   },
   "file_extension": ".py",
   "mimetype": "text/x-python",
   "name": "python",
   "nbconvert_exporter": "python",
   "pygments_lexer": "ipython3",
   "version": "3.11.5"
  },
  "widgets": {
   "application/vnd.jupyter.widget-state+json": {
    "state": {},
    "version_major": 2,
    "version_minor": 0
   }
  }
 },
 "nbformat": 4,
 "nbformat_minor": 5
}
